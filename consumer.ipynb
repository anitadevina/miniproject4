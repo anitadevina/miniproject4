{
 "cells": [
  {
   "cell_type": "markdown",
   "id": "2ea3a336-c0d0-4ded-9ab2-dfea36086d3a",
   "metadata": {},
   "source": [
    "## **1. Load Machine Learning Model**"
   ]
  },
  {
   "cell_type": "code",
   "execution_count": 21,
   "id": "ef9cbe69-f97e-4dff-89e7-ac8f2bd96e70",
   "metadata": {
    "tags": []
   },
   "outputs": [
    {
     "data": {
      "text/plain": [
       "'c:\\\\Users\\\\anita\\\\OneDrive\\\\Desktop\\\\stream processing\\\\machinelearning\\\\'"
      ]
     },
     "execution_count": 21,
     "metadata": {},
     "output_type": "execute_result"
    }
   ],
   "source": [
    "import os\n",
    "from machinelearning import FraudModel\n",
    "\n",
    "path = os.getcwd()\n",
    "path = path + \"\\\\machinelearning\\\\\"\n",
    "path"
   ]
  },
  {
   "cell_type": "markdown",
   "id": "d4d42e2c-3529-4e1d-8c5e-82d5fded2eca",
   "metadata": {},
   "source": [
    "## **2. Load Data Old Information From PostgreSQL** "
   ]
  },
  {
   "cell_type": "code",
   "execution_count": 22,
   "id": "ca7e1d7a-09af-4f9d-90d4-c6febbcd7714",
   "metadata": {},
   "outputs": [
    {
     "data": {
      "text/html": [
       "<div>\n",
       "<style scoped>\n",
       "    .dataframe tbody tr th:only-of-type {\n",
       "        vertical-align: middle;\n",
       "    }\n",
       "\n",
       "    .dataframe tbody tr th {\n",
       "        vertical-align: top;\n",
       "    }\n",
       "\n",
       "    .dataframe thead th {\n",
       "        text-align: right;\n",
       "    }\n",
       "</style>\n",
       "<table border=\"1\" class=\"dataframe\">\n",
       "  <thead>\n",
       "    <tr style=\"text-align: right;\">\n",
       "      <th></th>\n",
       "      <th>nameOrig</th>\n",
       "      <th>oldbalanceOrg</th>\n",
       "      <th>nameDest</th>\n",
       "      <th>oldbalanceDest</th>\n",
       "    </tr>\n",
       "  </thead>\n",
       "  <tbody>\n",
       "    <tr>\n",
       "      <th>0</th>\n",
       "      <td>C1231006815</td>\n",
       "      <td>170136.0</td>\n",
       "      <td>M1979787155</td>\n",
       "      <td>0.0</td>\n",
       "    </tr>\n",
       "    <tr>\n",
       "      <th>1</th>\n",
       "      <td>C1666544295</td>\n",
       "      <td>21249.0</td>\n",
       "      <td>M2044282225</td>\n",
       "      <td>0.0</td>\n",
       "    </tr>\n",
       "    <tr>\n",
       "      <th>2</th>\n",
       "      <td>C1305486145</td>\n",
       "      <td>181.0</td>\n",
       "      <td>C553264065</td>\n",
       "      <td>0.0</td>\n",
       "    </tr>\n",
       "    <tr>\n",
       "      <th>3</th>\n",
       "      <td>C840083671</td>\n",
       "      <td>181.0</td>\n",
       "      <td>C38997010</td>\n",
       "      <td>21182.0</td>\n",
       "    </tr>\n",
       "    <tr>\n",
       "      <th>4</th>\n",
       "      <td>C2048537720</td>\n",
       "      <td>41554.0</td>\n",
       "      <td>M1230701703</td>\n",
       "      <td>0.0</td>\n",
       "    </tr>\n",
       "  </tbody>\n",
       "</table>\n",
       "</div>"
      ],
      "text/plain": [
       "      nameOrig  oldbalanceOrg     nameDest  oldbalanceDest\n",
       "0  C1231006815       170136.0  M1979787155             0.0\n",
       "1  C1666544295        21249.0  M2044282225             0.0\n",
       "2  C1305486145          181.0   C553264065             0.0\n",
       "3   C840083671          181.0    C38997010         21182.0\n",
       "4  C2048537720        41554.0  M1230701703             0.0"
      ]
     },
     "execution_count": 22,
     "metadata": {},
     "output_type": "execute_result"
    }
   ],
   "source": [
    "import json\n",
    "import pandas as pd\n",
    "import urllib.parse\n",
    "from sqlalchemy import create_engine\n",
    "\n",
    "# Baca konfigurasi dari file JSON\n",
    "with open('config.json', 'r') as config_file:\n",
    "    config = json.load(config_file)\n",
    "\n",
    "# Ambil konfigurasi PostgreSQL dari JSON\n",
    "postgres_config = config['postgres']\n",
    "username = postgres_config['username']\n",
    "password = urllib.parse.quote_plus(postgres_config['password'])\n",
    "host = postgres_config['host']\n",
    "port = postgres_config['port']\n",
    "database = postgres_config['database']\n",
    "\n",
    "# URL koneksi ke PostgreSQL\n",
    "db_url = f\"postgresql://{username}:{password}@{host}:{port}/{database}\"\n",
    "engine = create_engine(db_url)\n",
    "\n",
    "df = pd.read_sql_query('SELECT * FROM old_information_devina;', engine)\n",
    "df.head(5)"
   ]
  },
  {
   "cell_type": "markdown",
   "id": "d1cf3bdd-ed67-457e-aa40-fe63f5253906",
   "metadata": {},
   "source": [
    "## **3. Build Connection MongoDB**"
   ]
  },
  {
   "cell_type": "code",
   "execution_count": 23,
   "id": "9f1e76dd-22e6-44ce-86ef-6514a558be23",
   "metadata": {},
   "outputs": [
    {
     "name": "stdout",
     "output_type": "stream",
     "text": [
      "MongoDB connection successful: {'ok': 1.0}\n",
      "Databases: ['admin', 'config', 'ftde02', 'ftde3', 'local']\n"
     ]
    }
   ],
   "source": [
    "import json\n",
    "from pymongo import MongoClient\n",
    "\n",
    "# Baca konfigurasi dari file JSON\n",
    "with open('config.json', 'r') as config_file:\n",
    "    config = json.load(config_file)\n",
    "\n",
    "# Ambil konfigurasi mongo dari JSON\n",
    "mongo_config = config['mongo']\n",
    "mongo_username = mongo_config['username']\n",
    "mongo_password = urllib.parse.quote_plus(mongo_config['password'])\n",
    "mongo_host = mongo_config['host']\n",
    "mongo_port = mongo_config['port']\n",
    "\n",
    "try:\n",
    "    server = MongoClient(f\"mongodb://{mongo_username}:{mongo_password}@{mongo_host}:{mongo_port}/\")\n",
    "    db = server.admin\n",
    "    server_status = db.command(\"ping\")\n",
    "    print(\"MongoDB connection successful:\", server_status)\n",
    "\n",
    "    databases = server.list_database_names()\n",
    "    print(\"Databases:\", databases)\n",
    "\n",
    "except Exception as e:\n",
    "    print(\"An error occurred:\", e)"
   ]
  },
  {
   "cell_type": "markdown",
   "id": "9febd477-e884-4622-bd01-7134de57a04d",
   "metadata": {},
   "source": [
    "## **4. Load Data New Information From Kafka Producer**"
   ]
  },
  {
   "cell_type": "code",
   "execution_count": null,
   "id": "bcedfb57-8f9d-486c-a5a5-131075cad767",
   "metadata": {},
   "outputs": [],
   "source": [
    "1. Ambil Data dari Kafka Producer\n",
    "2. Merge / Join dengan Data dari PostgreSQL\n",
    "3. Prediksi Transaksi\n",
    "4. Insert kedalam MongoDB"
   ]
  },
  {
   "cell_type": "code",
   "execution_count": null,
   "id": "d19e5839-fc42-45de-87d5-2b6d94625dc5",
   "metadata": {
    "tags": []
   },
   "outputs": [
    {
     "name": "stdout",
     "output_type": "stream",
     "text": [
      "Starting the consumer\n"
     ]
    }
   ],
   "source": [
    "import json\n",
    "from kafka import KafkaConsumer\n",
    "\n",
    "if __name__ == \"__main__\":\n",
    "\n",
    "    # Baca konfigurasi dari config.json\n",
    "    with open('config.json', 'r') as config_file:\n",
    "        config = json.load(config_file)\n",
    "\n",
    "    # Ambil konfigurasi Kafka\n",
    "    kafka_config = config[\"kafka\"]\n",
    "    kafka_host = kafka_config[\"broker_host\"]\n",
    "    kafka_topic = kafka_config[\"topic\"]\n",
    "\n",
    "    # Ambil konfigurasi Mongo\n",
    "    mongo_config = config['mongo']\n",
    "    mongo_database = mongo_config['database']\n",
    "\n",
    "    consumer = KafkaConsumer(kafka_topic, bootstrap_servers=kafka_host)\n",
    "    print(\"Starting the consumer\")\n",
    "    \n",
    "    for msg in consumer:\n",
    "        print(f\"Records = {json.loads(msg.value)}\")\n",
    "        \n",
    "        # Parsing pesan Kafka\n",
    "        data = json.loads(msg.value)\n",
    "        produder = pd.DataFrame([data])\n",
    "        \n",
    "        #join old information di postgreSQL\n",
    "        data = produder.merge(df, how='inner', on=['nameOrig','nameDest'])\n",
    "\n",
    "        data_predict = data.drop(['nameOrig','nameDest'], axis=1)\n",
    "        data_predict = data_predict.to_dict('index')[0]\n",
    "\n",
    "        result = FraudModel.runModel(data_predict, path)\n",
    "        data['predict'] = result\n",
    "        \n",
    "        #insert mongodb\n",
    "        db = server[mongo_database]\n",
    "        collection = db[\"fraud_devina\"]\n",
    "\n",
    "        if isinstance(data.to_dict('index')[0], list):\n",
    "            collection.insert_many(data.to_dict('index')[0])\n",
    "        else:\n",
    "            collection.insert_one(data.to_dict('index')[0])        \n",
    "            print(\"Data telah disimpan ke MongoDB\")"
   ]
  },
  {
   "cell_type": "code",
   "execution_count": null,
   "id": "931aa1e3-2b47-4718-a779-de85ba615b61",
   "metadata": {},
   "outputs": [],
   "source": []
  }
 ],
 "metadata": {
  "kernelspec": {
   "display_name": "Python 3",
   "language": "python",
   "name": "python3"
  },
  "language_info": {
   "codemirror_mode": {
    "name": "ipython",
    "version": 3
   },
   "file_extension": ".py",
   "mimetype": "text/x-python",
   "name": "python",
   "nbconvert_exporter": "python",
   "pygments_lexer": "ipython3",
   "version": "3.11.9"
  }
 },
 "nbformat": 4,
 "nbformat_minor": 5
}
