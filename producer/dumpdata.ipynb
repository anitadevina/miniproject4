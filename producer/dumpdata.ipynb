{
 "cells": [
  {
   "cell_type": "code",
   "execution_count": 10,
   "metadata": {},
   "outputs": [
    {
     "name": "stdout",
     "output_type": "stream",
     "text": [
      "Data telah dimasukkan ke tabel old_information_devina.\n"
     ]
    }
   ],
   "source": [
    "import pandas as pd\n",
    "import urllib.parse\n",
    "import json\n",
    "\n",
    "from sqlalchemy import create_engine\n",
    "\n",
    "def insert_data_to_postgresql(df, table_name, db_url):\n",
    "    try:\n",
    "        engine = create_engine(db_url)\n",
    "\n",
    "        df.to_sql(table_name, engine, if_exists='append', index=False)\n",
    "        print(f\"Data telah dimasukkan ke tabel {table_name}.\")\n",
    "    except Exception as e:\n",
    "        print(f\"Terjadi kesalahan: {e}\")\n",
    "\n",
    "if __name__ == \"__main__\":\n",
    "    # Baca konfigurasi dari file JSON\n",
    "    with open('config.json', 'r') as config_file:\n",
    "        config = json.load(config_file)\n",
    "\n",
    "    # Ambil konfigurasi PostgreSQL dari JSON\n",
    "    postgres_config = config['postgres']\n",
    "    username = postgres_config['username']\n",
    "    password = urllib.parse.quote_plus(postgres_config['password'])\n",
    "    host = postgres_config['host']\n",
    "    port = postgres_config['port']\n",
    "    database = postgres_config['database']\n",
    "\n",
    "    # URL koneksi ke PostgreSQL\n",
    "    db_url = f\"postgresql://{username}:{password}@{host}:{port}/{database}\"\n",
    "\n",
    "    # Baca data dari file CSV\n",
    "    csv_path = \"Old_Information.csv\"\n",
    "    data = pd.read_csv(csv_path)\n",
    "\n",
    "\n",
    "    # Insert data ke PostgreSQL\n",
    "    table_name = \"old_information_devina\"\n",
    "    insert_data_to_postgresql(data, table_name, db_url)"
   ]
  }
 ],
 "metadata": {
  "kernelspec": {
   "display_name": "Python 3",
   "language": "python",
   "name": "python3"
  },
  "language_info": {
   "codemirror_mode": {
    "name": "ipython",
    "version": 3
   },
   "file_extension": ".py",
   "mimetype": "text/x-python",
   "name": "python",
   "nbconvert_exporter": "python",
   "pygments_lexer": "ipython3",
   "version": "3.11.9"
  }
 },
 "nbformat": 4,
 "nbformat_minor": 2
}
